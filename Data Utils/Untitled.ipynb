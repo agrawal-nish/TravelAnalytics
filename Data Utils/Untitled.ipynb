{
 "cells": [
  {
   "cell_type": "code",
   "execution_count": 1,
   "metadata": {
    "collapsed": false
   },
   "outputs": [
    {
     "name": "stderr",
     "output_type": "stream",
     "text": [
      "/usr/local/lib/python2.7/dist-packages/matplotlib/font_manager.py:273: UserWarning: Matplotlib is building the font cache using fc-list. This may take a moment.\n",
      "  warnings.warn('Matplotlib is building the font cache using fc-list. This may take a moment.')\n"
     ]
    }
   ],
   "source": [
    "import pandas as pd \n",
    "import matplotlib.pyplot as plt\n",
    "%matplotlib inline"
   ]
  },
  {
   "cell_type": "code",
   "execution_count": 2,
   "metadata": {
    "collapsed": false
   },
   "outputs": [
    {
     "name": "stdout",
     "output_type": "stream",
     "text": [
      "(180874, 9)\n"
     ]
    }
   ],
   "source": [
    "data = pd.read_csv(\"../Data/vix/TRBContest_Deliverables/trip_leg_matrix_2014_04_03_DDP.csv\")\n",
    "print data.shape"
   ]
  },
  {
   "cell_type": "code",
   "execution_count": 3,
   "metadata": {
    "collapsed": false
   },
   "outputs": [
    {
     "name": "stdout",
     "output_type": "stream",
     "text": [
      "<class 'pandas.core.frame.DataFrame'>\n",
      "RangeIndex: 180874 entries, 0 to 180873\n",
      "Data columns (total 9 columns):\n",
      "Origin_Zone         180874 non-null int64\n",
      "Destination_Zone    180874 non-null int64\n",
      "Start_Date          180874 non-null int64\n",
      "End_Date            180874 non-null int64\n",
      "Aggregation         180874 non-null object\n",
      "Subscriber_Class    180874 non-null object\n",
      "Purpose             180874 non-null object\n",
      "Time_of_Day         180874 non-null object\n",
      "Count               180874 non-null float64\n",
      "dtypes: float64(1), int64(4), object(4)\n",
      "memory usage: 12.4+ MB\n",
      "None\n"
     ]
    }
   ],
   "source": [
    "print data.info()"
   ]
  },
  {
   "cell_type": "code",
   "execution_count": 4,
   "metadata": {
    "collapsed": false
   },
   "outputs": [
    {
     "name": "stdout",
     "output_type": "stream",
     "text": [
      "        Origin_Zone  Destination_Zone  Start_Date    End_Date          Count\n",
      "count  1.808740e+05      1.808740e+05    180874.0    180874.0  180874.000000\n",
      "mean   9.904132e+13      1.014076e+14  20140403.0  20140403.0      81.364012\n",
      "std    2.987183e+14      3.018685e+14         0.0         0.0     652.837734\n",
      "min    1.000000e+00      1.000000e+00  20140403.0  20140403.0       3.000000\n",
      "25%    4.930000e+02      4.930000e+02  20140403.0  20140403.0      28.370000\n",
      "50%    8.350000e+02      8.350000e+02  20140403.0  20140403.0      38.980000\n",
      "75%    1.067000e+03      1.070000e+03  20140403.0  20140403.0      52.870000\n",
      "max    1.000000e+15      1.000000e+15  20140403.0  20140403.0   32792.670000\n"
     ]
    }
   ],
   "source": [
    "print data.describe()"
   ]
  },
  {
   "cell_type": "code",
   "execution_count": 5,
   "metadata": {
    "collapsed": false
   },
   "outputs": [
    {
     "name": "stdout",
     "output_type": "stream",
     "text": [
      "   Origin_Zone  Destination_Zone\n",
      "0         4005              4005\n",
      "1         4005              4005\n",
      "2         4000              4000\n",
      "3         4001              4001\n",
      "4          973               985\n"
     ]
    },
    {
     "name": "stderr",
     "output_type": "stream",
     "text": [
      "/usr/local/lib/python2.7/dist-packages/pandas/core/indexing.py:132: SettingWithCopyWarning: \n",
      "A value is trying to be set on a copy of a slice from a DataFrame\n",
      "\n",
      "See the caveats in the documentation: http://pandas.pydata.org/pandas-docs/stable/indexing.html#indexing-view-versus-copy\n",
      "  self._setitem_with_indexer(indexer, value)\n",
      "/usr/local/lib/python2.7/dist-packages/ipykernel/__main__.py:3: SettingWithCopyWarning: \n",
      "A value is trying to be set on a copy of a slice from a DataFrame\n",
      "\n",
      "See the caveats in the documentation: http://pandas.pydata.org/pandas-docs/stable/indexing.html#indexing-view-versus-copy\n",
      "  app.launch_new_instance()\n",
      "/usr/local/lib/python2.7/dist-packages/ipykernel/__main__.py:4: SettingWithCopyWarning: \n",
      "A value is trying to be set on a copy of a slice from a DataFrame\n",
      "\n",
      "See the caveats in the documentation: http://pandas.pydata.org/pandas-docs/stable/indexing.html#indexing-view-versus-copy\n"
     ]
    }
   ],
   "source": [
    "ordes = data[[\"Origin_Zone\",\"Destination_Zone\"]]\n",
    "\n",
    "ordes.ix[ordes.Origin_Zone > 2000] %= 5000 \n",
    "ordes.ix[ordes.Destination_Zone > 2000] %= 5000\n",
    "print ordes.head()"
   ]
  },
  {
   "cell_type": "code",
   "execution_count": 6,
   "metadata": {
    "collapsed": false
   },
   "outputs": [
    {
     "name": "stdout",
     "output_type": "stream",
     "text": [
      "   Start_time  End_time\n",
      "0           0         1\n",
      "1           0         1\n",
      "2           0         1\n",
      "3           4         5\n",
      "4           0         1\n"
     ]
    }
   ],
   "source": [
    "time_division = data[[\"Time_of_Day\"]]\n",
    "#print time_division.head()\n",
    "\n",
    "def start_cleaner(value):\n",
    "    \"\"\"\n",
    "    Clean and divide into start and end time\n",
    "    \"\"\"\n",
    "    def start_time(val):\n",
    "        return int(val[1:3])\n",
    "    \n",
    "    start = value.apply(start_time)\n",
    "    return start\n",
    "\n",
    "def end_cleaner(value):\n",
    "    def end_time(val):\n",
    "        return int(val[5:]) \n",
    "    end = value.apply(end_time)\n",
    "    return end\n",
    "        \n",
    "x = time_division.apply(start_cleaner)\n",
    "y = time_division.apply(end_cleaner)\n",
    "z = pd.concat([x,y],axis = 1)\n",
    "z.columns = [\"Start_time\",\"End_time\"]\n",
    "print z.head()"
   ]
  },
  {
   "cell_type": "code",
   "execution_count": 7,
   "metadata": {
    "collapsed": false
   },
   "outputs": [
    {
     "name": "stdout",
     "output_type": "stream",
     "text": [
      "0    3\n",
      "1    3\n",
      "2    3\n",
      "3    3\n",
      "4    3\n",
      "Name: Start_Date, dtype: int64\n"
     ]
    }
   ],
   "source": [
    "date = data.Start_Date.apply(lambda x : x%100)\n",
    "print date.head()"
   ]
  },
  {
   "cell_type": "code",
   "execution_count": 8,
   "metadata": {
    "collapsed": false
   },
   "outputs": [
    {
     "name": "stdout",
     "output_type": "stream",
     "text": [
      "  Aggregation    Subscriber_Class Purpose    Count\n",
      "0         Thu  Short Term Visitor      OH  3948.76\n",
      "1         Thu  Short Term Visitor      HH  3472.69\n",
      "2         Thu    Inbound Commuter      OH   244.23\n",
      "3         Thu  Short Term Visitor      OH   560.45\n",
      "4         Thu   Long Term Visitor      OO    30.39\n"
     ]
    }
   ],
   "source": [
    "data = data[[\"Aggregation\",\"Subscriber_Class\",\"Purpose\",\"Count\"]]\n",
    "print data.head()"
   ]
  },
  {
   "cell_type": "code",
   "execution_count": 9,
   "metadata": {
    "collapsed": false
   },
   "outputs": [
    {
     "name": "stdout",
     "output_type": "stream",
     "text": [
      "   Origin_Zone  Destination_Zone  Start_Date Aggregation    Subscriber_Class  \\\n",
      "0         4005              4005           3         Thu  Short Term Visitor   \n",
      "1         4005              4005           3         Thu  Short Term Visitor   \n",
      "2         4000              4000           3         Thu    Inbound Commuter   \n",
      "3         4001              4001           3         Thu  Short Term Visitor   \n",
      "4          973               985           3         Thu   Long Term Visitor   \n",
      "\n",
      "  Purpose    Count  Start_time  End_time  \n",
      "0      OH  3948.76           0         1  \n",
      "1      HH  3472.69           0         1  \n",
      "2      OH   244.23           0         1  \n",
      "3      OH   560.45           4         5  \n",
      "4      OO    30.39           0         1  \n"
     ]
    }
   ],
   "source": [
    "final_data = pd.concat([ordes,date,data,z],axis = 1)\n",
    "print final_data.head()"
   ]
  },
  {
   "cell_type": "code",
   "execution_count": 10,
   "metadata": {
    "collapsed": true
   },
   "outputs": [],
   "source": [
    "final_data.to_csv(\"matrix_3.csv\",index = False)"
   ]
  },
  {
   "cell_type": "code",
   "execution_count": null,
   "metadata": {
    "collapsed": true
   },
   "outputs": [],
   "source": []
  }
 ],
 "metadata": {
  "kernelspec": {
   "display_name": "Python 2",
   "language": "python",
   "name": "python2"
  },
  "language_info": {
   "codemirror_mode": {
    "name": "ipython",
    "version": 2
   },
   "file_extension": ".py",
   "mimetype": "text/x-python",
   "name": "python",
   "nbconvert_exporter": "python",
   "pygments_lexer": "ipython2",
   "version": "2.7.6"
  }
 },
 "nbformat": 4,
 "nbformat_minor": 0
}
