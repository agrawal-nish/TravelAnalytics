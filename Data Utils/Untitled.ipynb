{
 "cells": [
  {
   "cell_type": "code",
   "execution_count": 231,
   "metadata": {
    "collapsed": false
   },
   "outputs": [],
   "source": [
    "import pandas as pd \n",
    "import matplotlib.pyplot as plt\n",
    "%matplotlib inline"
   ]
  },
  {
   "cell_type": "code",
   "execution_count": 232,
   "metadata": {
    "collapsed": false
   },
   "outputs": [
    {
     "name": "stdout",
     "output_type": "stream",
     "text": [
      "(131770, 9)\n"
     ]
    }
   ],
   "source": [
    "data = pd.read_csv(\"../Data/vix/TRBContest_Deliverables/trip_leg_matrix_2014_04_27_DDP.csv\")\n",
    "print data.shape"
   ]
  },
  {
   "cell_type": "code",
   "execution_count": 233,
   "metadata": {
    "collapsed": false
   },
   "outputs": [
    {
     "name": "stdout",
     "output_type": "stream",
     "text": [
      "<class 'pandas.core.frame.DataFrame'>\n",
      "RangeIndex: 131770 entries, 0 to 131769\n",
      "Data columns (total 9 columns):\n",
      "Origin_Zone         131770 non-null int64\n",
      "Destination_Zone    131770 non-null int64\n",
      "Start_Date          131770 non-null int64\n",
      "End_Date            131770 non-null int64\n",
      "Aggregation         131770 non-null object\n",
      "Subscriber_Class    131770 non-null object\n",
      "Purpose             131770 non-null object\n",
      "Time_of_Day         131770 non-null object\n",
      "Count               131770 non-null float64\n",
      "dtypes: float64(1), int64(4), object(4)\n",
      "memory usage: 9.0+ MB\n",
      "None\n"
     ]
    }
   ],
   "source": [
    "print data.info()"
   ]
  },
  {
   "cell_type": "code",
   "execution_count": 234,
   "metadata": {
    "collapsed": false
   },
   "outputs": [
    {
     "name": "stdout",
     "output_type": "stream",
     "text": [
      "        Origin_Zone  Destination_Zone  Start_Date    End_Date          Count\n",
      "count  1.317700e+05      1.317700e+05    131770.0    131770.0  131770.000000\n",
      "mean   1.176292e+14      1.238370e+14  20140427.0  20140427.0      80.548865\n",
      "std    3.221698e+14      3.293967e+14         0.0         0.0     575.678409\n",
      "min    1.000000e+00      1.000000e+00  20140427.0  20140427.0       3.000000\n",
      "25%    5.130000e+02      5.140000e+02  20140427.0  20140427.0      28.450000\n",
      "50%    8.970000e+02      8.970000e+02  20140427.0  20140427.0      39.290000\n",
      "75%    1.106000e+03      1.109000e+03  20140427.0  20140427.0      52.660000\n",
      "max    1.000000e+15      1.000000e+15  20140427.0  20140427.0   27877.540000\n"
     ]
    }
   ],
   "source": [
    "print data.describe()"
   ]
  },
  {
   "cell_type": "code",
   "execution_count": 235,
   "metadata": {
    "collapsed": false,
    "scrolled": true
   },
   "outputs": [
    {
     "name": "stdout",
     "output_type": "stream",
     "text": [
      "   Origin_Zone  Destination_Zone\n",
      "0          897              4005\n",
      "1         4000               310\n",
      "2         1235              1318\n",
      "3          799              4005\n",
      "4         4001              4001\n"
     ]
    },
    {
     "name": "stderr",
     "output_type": "stream",
     "text": [
      "/usr/local/lib/python2.7/dist-packages/ipykernel/__main__.py:3: SettingWithCopyWarning: \n",
      "A value is trying to be set on a copy of a slice from a DataFrame\n",
      "\n",
      "See the caveats in the documentation: http://pandas.pydata.org/pandas-docs/stable/indexing.html#indexing-view-versus-copy\n",
      "  app.launch_new_instance()\n",
      "/usr/local/lib/python2.7/dist-packages/ipykernel/__main__.py:4: SettingWithCopyWarning: \n",
      "A value is trying to be set on a copy of a slice from a DataFrame\n",
      "\n",
      "See the caveats in the documentation: http://pandas.pydata.org/pandas-docs/stable/indexing.html#indexing-view-versus-copy\n"
     ]
    }
   ],
   "source": [
    "ordes = data[[\"Origin_Zone\",\"Destination_Zone\"]]\n",
    "\n",
    "ordes.ix[ordes.Origin_Zone > 2000] %= 5000 \n",
    "ordes.ix[ordes.Destination_Zone > 2000] %= 5000\n",
    "print ordes.head()"
   ]
  },
  {
   "cell_type": "code",
   "execution_count": 236,
   "metadata": {
    "collapsed": false
   },
   "outputs": [
    {
     "name": "stdout",
     "output_type": "stream",
     "text": [
      "   Start_time  End_time\n",
      "0           0         1\n",
      "1           0         1\n",
      "2           2         3\n",
      "3           1         2\n",
      "4           0         1\n"
     ]
    }
   ],
   "source": [
    "time_division = data[[\"Time_of_Day\"]]\n",
    "#print time_division.head()\n",
    "\n",
    "def start_cleaner(value):\n",
    "    \"\"\"\n",
    "    Clean and divide into start and end time\n",
    "    \"\"\"\n",
    "    def start_time(val):\n",
    "        return int(val[1:3])\n",
    "    \n",
    "    start = value.apply(start_time)\n",
    "    return start\n",
    "\n",
    "def end_cleaner(value):\n",
    "    def end_time(val):\n",
    "        return int(val[5:]) \n",
    "    end = value.apply(end_time)\n",
    "    return end\n",
    "        \n",
    "x = time_division.apply(start_cleaner)\n",
    "y = time_division.apply(end_cleaner)\n",
    "z = pd.concat([x,y],axis = 1)\n",
    "z.columns = [\"Start_time\",\"End_time\"]\n",
    "print z.head()"
   ]
  },
  {
   "cell_type": "code",
   "execution_count": 237,
   "metadata": {
    "collapsed": false
   },
   "outputs": [
    {
     "name": "stdout",
     "output_type": "stream",
     "text": [
      "0    27\n",
      "1    27\n",
      "2    27\n",
      "3    27\n",
      "4    27\n",
      "Name: Start_Date, dtype: int64\n"
     ]
    }
   ],
   "source": [
    "date = data.Start_Date.apply(lambda x : x%100)\n",
    "print date.head()"
   ]
  },
  {
   "cell_type": "code",
   "execution_count": 238,
   "metadata": {
    "collapsed": false
   },
   "outputs": [
    {
     "name": "stdout",
     "output_type": "stream",
     "text": [
      "  Aggregation    Subscriber_Class Purpose   Count\n",
      "0         Sun  Short Term Visitor      OH  114.49\n",
      "1         Sun         Home Worker      OH   58.72\n",
      "2         Sun         Home Worker      OH   22.08\n",
      "3         Sun  Short Term Visitor      OH  413.94\n",
      "4         Sun   Long Term Visitor      OO  440.72\n"
     ]
    }
   ],
   "source": [
    "data = data[[\"Aggregation\",\"Subscriber_Class\",\"Purpose\",\"Count\"]]\n",
    "print data.head()"
   ]
  },
  {
   "cell_type": "code",
   "execution_count": 239,
   "metadata": {
    "collapsed": false
   },
   "outputs": [
    {
     "name": "stdout",
     "output_type": "stream",
     "text": [
      "   Origin_Zone  Destination_Zone  Start_Date Aggregation    Subscriber_Class  \\\n",
      "0          897              4005          27         Sun  Short Term Visitor   \n",
      "1         4000               310          27         Sun         Home Worker   \n",
      "2         1235              1318          27         Sun         Home Worker   \n",
      "3          799              4005          27         Sun  Short Term Visitor   \n",
      "4         4001              4001          27         Sun   Long Term Visitor   \n",
      "\n",
      "  Purpose   Count  Start_time  End_time  \n",
      "0      OH  114.49           0         1  \n",
      "1      OH   58.72           0         1  \n",
      "2      OH   22.08           2         3  \n",
      "3      OH  413.94           1         2  \n",
      "4      OO  440.72           0         1  \n"
     ]
    }
   ],
   "source": [
    "final_data = pd.concat([ordes,date,data,z],axis = 1)\n",
    "print final_data.head()"
   ]
  },
  {
   "cell_type": "code",
   "execution_count": 240,
   "metadata": {
    "collapsed": true
   },
   "outputs": [],
   "source": [
    "final_data.to_csv(\"matrix_27.csv\",index = False)"
   ]
  },
  {
   "cell_type": "code",
   "execution_count": null,
   "metadata": {
    "collapsed": true
   },
   "outputs": [],
   "source": []
  }
 ],
 "metadata": {
  "kernelspec": {
   "display_name": "Python 2",
   "language": "python",
   "name": "python2"
  },
  "language_info": {
   "codemirror_mode": {
    "name": "ipython",
    "version": 2
   },
   "file_extension": ".py",
   "mimetype": "text/x-python",
   "name": "python",
   "nbconvert_exporter": "python",
   "pygments_lexer": "ipython2",
   "version": "2.7.6"
  }
 },
 "nbformat": 4,
 "nbformat_minor": 0
}
