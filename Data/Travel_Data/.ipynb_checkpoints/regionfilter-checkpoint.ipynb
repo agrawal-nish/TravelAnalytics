{
 "cells": [
  {
   "cell_type": "code",
   "execution_count": 1,
   "metadata": {
    "collapsed": true
   },
   "outputs": [],
   "source": [
    "import pandas as pd\n",
    "import json"
   ]
  },
  {
   "cell_type": "code",
   "execution_count": 2,
   "metadata": {
    "collapsed": false
   },
   "outputs": [
    {
     "ename": "IOError",
     "evalue": "[Errno 2] No such file or directory: 'OrlandoGeoJ.json'",
     "output_type": "error",
     "traceback": [
      "\u001b[0;31m---------------------------------------------------------------------------\u001b[0m",
      "\u001b[0;31mIOError\u001b[0m                                   Traceback (most recent call last)",
      "\u001b[0;32m<ipython-input-2-8121fec9ef37>\u001b[0m in \u001b[0;36m<module>\u001b[0;34m()\u001b[0m\n\u001b[0;32m----> 1\u001b[0;31m \u001b[0;32mwith\u001b[0m \u001b[0mopen\u001b[0m\u001b[0;34m(\u001b[0m\u001b[0;34m\"OrlandoGeoJ.json\"\u001b[0m\u001b[0;34m)\u001b[0m \u001b[0;32mas\u001b[0m \u001b[0mf\u001b[0m\u001b[0;34m:\u001b[0m\u001b[0;34m\u001b[0m\u001b[0m\n\u001b[0m\u001b[1;32m      2\u001b[0m     \u001b[0mdata\u001b[0m \u001b[0;34m=\u001b[0m \u001b[0mjson\u001b[0m\u001b[0;34m.\u001b[0m\u001b[0mload\u001b[0m\u001b[0;34m(\u001b[0m\u001b[0mf\u001b[0m\u001b[0;34m)\u001b[0m\u001b[0;34m\u001b[0m\u001b[0m\n\u001b[1;32m      3\u001b[0m \u001b[0mdata\u001b[0m \u001b[0;34m=\u001b[0m \u001b[0mdata\u001b[0m\u001b[0;34m[\u001b[0m\u001b[0;34m'features'\u001b[0m\u001b[0;34m]\u001b[0m\u001b[0;34m\u001b[0m\u001b[0m\n",
      "\u001b[0;31mIOError\u001b[0m: [Errno 2] No such file or directory: 'OrlandoGeoJ.json'"
     ]
    }
   ],
   "source": [
    "with open(\"OrlandoGeoJ.json\") as f:\n",
    "    data = json.load(f)\n",
    "data = data['features']"
   ]
  },
  {
   "cell_type": "code",
   "execution_count": null,
   "metadata": {
    "collapsed": false
   },
   "outputs": [],
   "source": [
    "counties_list = {}\n",
    "\n",
    "counties_list[\"ORANGE\"] = []\n",
    "counties_list[\"SEMINOLE\"] = []\n",
    "counties_list[\"OSCEOLA\"] = []\n",
    "counties_list[\"VOLUSIA\"] = []\n",
    "counties_list[\"BREVARD\"]  =[]\n",
    "counties_list[\"INDIANRIVER\"] = []\n",
    "counties_list[\"LAKE\"] = []\n",
    "counties_list[\"SUMTER\"] = []\n",
    "counties_list[\"POLK\"] = []\n",
    "\n",
    "for d in data:\n",
    "    county_name = d[\"properties\"][\"COUNTY\"]\n",
    "    if county_name == \"INDIAN RIVER\":\n",
    "        county_name = \"INDIANRIVER\"\n",
    "    counties_list[county_name].append(d[\"properties\"][\"TAZ_ID\"])\n",
    "    \n",
    "for k in counties_list.keys():\n",
    "    counties_list[k] = list(set(counties_list[k]))"
   ]
  },
  {
   "cell_type": "code",
   "execution_count": null,
   "metadata": {
    "collapsed": true
   },
   "outputs": [],
   "source": [
    "for i in range(1,2):\n",
    "    data = pd.read_csv('matrix_' + str(i) + \".csv\")\n",
    "    data.index.name = 'Rowno'\n",
    "    for k in counties_list.keys():\n",
    "        cond = (data[\"Origin_Zone\"].isin(counties_list[str(k)])) & (data['Destination_Zone'].isin(counties_list[str(k)]))\n",
    "        data[cond].to_csv(\"matrix\" + str(k) + \"_1.csv\")"
   ]
  }
 ],
 "metadata": {
  "kernelspec": {
   "display_name": "Python 2",
   "language": "python",
   "name": "python2"
  },
  "language_info": {
   "codemirror_mode": {
    "name": "ipython",
    "version": 2
   },
   "file_extension": ".py",
   "mimetype": "text/x-python",
   "name": "python",
   "nbconvert_exporter": "python",
   "pygments_lexer": "ipython2",
   "version": "2.7.6"
  }
 },
 "nbformat": 4,
 "nbformat_minor": 0
}
